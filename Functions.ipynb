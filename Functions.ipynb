{
 "cells": [
  {
   "cell_type": "code",
   "execution_count": 27,
   "id": "42832f4d-3ecb-4005-a084-ed33aa9f6bbe",
   "metadata": {},
   "outputs": [],
   "source": [
    "def subFields():\n",
    "    aiList=(\"Machine Learning\", \"Neural Networks\", \"Vision\", \"Robotics\", \"Speech Processing\", \"Natural Language Processing\")\n",
    "    print(\"Sub-fields in AI are:\")\n",
    "    for field in aiList:\n",
    "        print(field)\n",
    "    "
   ]
  },
  {
   "cell_type": "code",
   "execution_count": 28,
   "id": "e14711c7-91cb-48fa-9e37-db916c5412ee",
   "metadata": {},
   "outputs": [
    {
     "name": "stdout",
     "output_type": "stream",
     "text": [
      "Sub-fields in AI are:\n",
      "Machine Learning\n",
      "Neural Networks\n",
      "Vision\n",
      "Robotics\n",
      "Speech Processing\n",
      "Natural Language Processing\n"
     ]
    }
   ],
   "source": [
    "subFields()"
   ]
  },
  {
   "cell_type": "code",
   "execution_count": 29,
   "id": "fdf6c9f7-a377-42b8-86e7-11a559f0cb4e",
   "metadata": {},
   "outputs": [],
   "source": [
    "def oddEven():\n",
    "    num=int(input(\"Enter a number:\"))\n",
    "    if(num%2==0):\n",
    "        print(str(num)+ \" is Even number\")\n",
    "    else:\n",
    "        print(str(num)+ \" is Odd number\")"
   ]
  },
  {
   "cell_type": "code",
   "execution_count": 30,
   "id": "8b207836-56f9-4034-842b-533aeeedb4ba",
   "metadata": {},
   "outputs": [
    {
     "name": "stdin",
     "output_type": "stream",
     "text": [
      "Enter a number: 52452\n"
     ]
    },
    {
     "name": "stdout",
     "output_type": "stream",
     "text": [
      "52452 is Even number\n"
     ]
    }
   ],
   "source": [
    "oddEven()"
   ]
  },
  {
   "cell_type": "code",
   "execution_count": 31,
   "id": "97a3f2ab-6716-4a9e-8e26-d9dd21e3a408",
   "metadata": {},
   "outputs": [],
   "source": [
    "def eligible():\n",
    "    gender=input(\"Enter your gender:\")\n",
    "    age=int(input(\"Enter your age:\"))\n",
    "    print(\"Your Gender:\"+gender)\n",
    "    print(\"Your Age:\"+str(age))\n",
    "    if((gender == \"Male\" and age >= 21) or (gender == \"Female\" and age >= 18)):\n",
    "        print(\"ELIGIBLE\")\n",
    "    else:\n",
    "        print(\"NOT ELIGIBLE\")"
   ]
  },
  {
   "cell_type": "code",
   "execution_count": 32,
   "id": "61c4b3d1-f34b-4914-b532-8b3ae0709f45",
   "metadata": {},
   "outputs": [
    {
     "name": "stdin",
     "output_type": "stream",
     "text": [
      "Enter your gender: Male\n",
      "Enter your age: 20\n"
     ]
    },
    {
     "name": "stdout",
     "output_type": "stream",
     "text": [
      "Your Gender:Male\n",
      "Your Age:20\n",
      "NOT ELIGIBLE\n"
     ]
    }
   ],
   "source": [
    "eligible()"
   ]
  },
  {
   "cell_type": "code",
   "execution_count": 33,
   "id": "5cff543b-df65-4ab1-b290-243e9ae017dd",
   "metadata": {},
   "outputs": [],
   "source": [
    "def percentage():\n",
    "    marks=((\"Subject1\",98),(\"Subject2\",87),(\"Subject3\",95),(\"Subject4\",95),(\"Subject5\",93))\n",
    "    total=0\n",
    "    for subject,mark in marks:\n",
    "      print(f\"{subject}={mark}\")\n",
    "      total=total+mark\n",
    "\n",
    "    print(\"Total:\"+str(total))\n",
    "    percentage=total/500*100\n",
    "    print(\"Percentage:\"+str(percentage))"
   ]
  },
  {
   "cell_type": "code",
   "execution_count": 34,
   "id": "d2bd0935-ad58-44c7-96d4-f50e94eb947a",
   "metadata": {},
   "outputs": [
    {
     "name": "stdout",
     "output_type": "stream",
     "text": [
      "Subject1=98\n",
      "Subject2=87\n",
      "Subject3=95\n",
      "Subject4=95\n",
      "Subject5=93\n",
      "Total:468\n",
      "Percentage:93.60000000000001\n"
     ]
    }
   ],
   "source": [
    "percentage()"
   ]
  },
  {
   "cell_type": "code",
   "execution_count": 35,
   "id": "78ed6473-cf73-4373-bbed-6fb65d604bf4",
   "metadata": {},
   "outputs": [],
   "source": [
    "def triangle(height,breadth,height1,height2,breadth1):\n",
    "    print(\"Height:\"+str(height))\n",
    "    print(\"breadth:\"+str(breadth))\n",
    "    print(\"Area formula: (Height*Breadth)/2\")\n",
    "    area=(height*breadth)/2\n",
    "    print(\"Area of Triangle:\"+str(area))\n",
    "    print(\"Height1:\"+str(height1))\n",
    "    print(\"Height2:\"+str(height2))\n",
    "    print(\"Breadth:\"+str(breadth1))\n",
    "    print(\"Perimeter formula: Height1+Height2+Breadth\")\n",
    "    perimeter=height1+height2+breadth1\n",
    "    print(\"Perimeter of Triangle:\"+str(perimeter))   \n",
    "   "
   ]
  },
  {
   "cell_type": "code",
   "execution_count": 36,
   "id": "47ef8e7a-8581-4653-ae24-049de8fc83f7",
   "metadata": {},
   "outputs": [
    {
     "name": "stdout",
     "output_type": "stream",
     "text": [
      "Height:32\n",
      "breadth:34\n",
      "Area formula: (Height*Breadth)/2\n",
      "Area of Triangle:544.0\n",
      "Height1:2\n",
      "Height2:4\n",
      "Breadth:4\n",
      "Perimeter formula: Height1+Height2+Breadth\n",
      "Perimeter of Triangle:10\n"
     ]
    }
   ],
   "source": [
    "triangle(32,34,2,4,4)"
   ]
  },
  {
   "cell_type": "code",
   "execution_count": null,
   "id": "a337a2d6-376b-4b65-bd8d-ce3218c0ecfe",
   "metadata": {},
   "outputs": [],
   "source": []
  }
 ],
 "metadata": {
  "kernelspec": {
   "display_name": "Python 3 (ipykernel)",
   "language": "python",
   "name": "python3"
  },
  "language_info": {
   "codemirror_mode": {
    "name": "ipython",
    "version": 3
   },
   "file_extension": ".py",
   "mimetype": "text/x-python",
   "name": "python",
   "nbconvert_exporter": "python",
   "pygments_lexer": "ipython3",
   "version": "3.11.7"
  }
 },
 "nbformat": 4,
 "nbformat_minor": 5
}
