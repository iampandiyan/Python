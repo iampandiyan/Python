{
 "cells": [
  {
   "cell_type": "code",
   "execution_count": 2,
   "id": "3f734128-7c63-4210-b1cc-5baa2a45234a",
   "metadata": {},
   "outputs": [
    {
     "name": "stdout",
     "output_type": "stream",
     "text": [
      "HOPE AI\n"
     ]
    }
   ],
   "source": [
    "print(\"HOPE AI\")"
   ]
  },
  {
   "cell_type": "code",
   "execution_count": 16,
   "id": "1fdec4fe-ab69-4b65-b688-100bf1e25baa",
   "metadata": {},
   "outputs": [
    {
     "name": "stdin",
     "output_type": "stream",
     "text": [
      "Enter your institute name? HOPE AI\n"
     ]
    },
    {
     "data": {
      "text/plain": [
       "'HOPE AI'"
      ]
     },
     "execution_count": 16,
     "metadata": {},
     "output_type": "execute_result"
    }
   ],
   "source": [
    "input(\"Enter your institute name?\")"
   ]
  },
  {
   "cell_type": "code",
   "execution_count": 18,
   "id": "cbc0ba49-720d-4577-899e-fa355e2c59f6",
   "metadata": {},
   "outputs": [
    {
     "name": "stdin",
     "output_type": "stream",
     "text": [
      "Enter your name: Pandiyan\n",
      "Enter your age: 32\n",
      "Enter your school name: Scott\n",
      "Enter your degree: Be\n"
     ]
    },
    {
     "name": "stdout",
     "output_type": "stream",
     "text": [
      "Enter your name:Pandiyan\n",
      "Enter your age:32\n",
      "Enter your school name:Scott\n",
      "Enter your degree:Be\n"
     ]
    }
   ],
   "source": [
    "name=input(\"Enter your name:\")\n",
    "age=input(\"Enter your age:\")\n",
    "school=input(\"Enter your school name:\")\n",
    "degree=input(\"Enter your degree:\")\n",
    "print(\"Enter your name:\"+name)\n",
    "print(\"Enter your age:\"+age)\n",
    "print(\"Enter your school name:\"+school)\n",
    "print(\"Enter your degree:\"+degree)"
   ]
  },
  {
   "cell_type": "code",
   "execution_count": 7,
   "id": "204015b2-dbcf-4552-83c6-bab6f5b0fcad",
   "metadata": {},
   "outputs": [
    {
     "name": "stdout",
     "output_type": "stream",
     "text": [
      "a= 43\n",
      "b= 34\n",
      "add= 77\n"
     ]
    }
   ],
   "source": [
    "a=43\n",
    "b=34\n",
    "add=a+b\n",
    "print(\"a= \"+str(a))\n",
    "print(\"b= \"+str(b))\n",
    "print(\"add = \"+str(add))"
   ]
  },
  {
   "cell_type": "code",
   "execution_count": 8,
   "id": "d5145626-9bae-4122-9dc4-9aea750c9afd",
   "metadata": {},
   "outputs": [
    {
     "name": "stdout",
     "output_type": "stream",
     "text": [
      "a= 43\n",
      "b= 34\n",
      "sub = 9\n"
     ]
    }
   ],
   "source": [
    "a=43\n",
    "b=34\n",
    "sub=a-b\n",
    "print(\"a= \"+str(a))\n",
    "print(\"b= \"+str(b))\n",
    "print(\"sub = \"+str(sub))"
   ]
  },
  {
   "cell_type": "code",
   "execution_count": 10,
   "id": "65ce0cc1-d643-474d-ac93-a2fedbb90e88",
   "metadata": {},
   "outputs": [
    {
     "name": "stdout",
     "output_type": "stream",
     "text": [
      "a= 63\n",
      "b= 97\n",
      "mult = 6111\n"
     ]
    }
   ],
   "source": [
    "a=63\n",
    "b=97\n",
    "mult=a*b\n",
    "print(\"a= \"+str(a))\n",
    "print(\"b= \"+str(b))\n",
    "print(\"mult = \"+str(mult))"
   ]
  },
  {
   "cell_type": "code",
   "execution_count": 12,
   "id": "8c0c3344-19b4-4412-9c85-181ba586fb44",
   "metadata": {},
   "outputs": [
    {
     "name": "stdout",
     "output_type": "stream",
     "text": [
      "a= 76\n",
      "b= 31\n",
      "Float Div = 2.4516129032258065\n"
     ]
    }
   ],
   "source": [
    "a=76\n",
    "b=31\n",
    "div=a/b\n",
    "print(\"a= \"+str(a))\n",
    "print(\"b= \"+str(b))\n",
    "print(\"Float Div = \"+str(div))"
   ]
  },
  {
   "cell_type": "code",
   "execution_count": 13,
   "id": "5620ae01-4825-41a7-bee4-e0b534429a2e",
   "metadata": {},
   "outputs": [
    {
     "name": "stdout",
     "output_type": "stream",
     "text": [
      "a= 76\n",
      "b= 31\n",
      "Floor Div = 2\n"
     ]
    }
   ],
   "source": [
    "a=76\n",
    "b=31\n",
    "div=a//b\n",
    "print(\"a= \"+str(a))\n",
    "print(\"b= \"+str(b))\n",
    "print(\"Floor Div = \"+str(div))"
   ]
  },
  {
   "cell_type": "code",
   "execution_count": 14,
   "id": "7319fcdb-31a0-42ce-af07-0dc4d137f0df",
   "metadata": {},
   "outputs": [
    {
     "name": "stdout",
     "output_type": "stream",
     "text": [
      "a= 76\n",
      "b= 31\n",
      "Modulo = 14\n"
     ]
    }
   ],
   "source": [
    "a=76\n",
    "b=31\n",
    "mod=a%b\n",
    "print(\"a= \"+str(a))\n",
    "print(\"b= \"+str(b))\n",
    "print(\"Modulo = \"+str(mod))"
   ]
  },
  {
   "cell_type": "code",
   "execution_count": 15,
   "id": "0c805dc9-c643-49f4-8050-ce68d0253156",
   "metadata": {},
   "outputs": [
    {
     "name": "stdout",
     "output_type": "stream",
     "text": [
      "a= 4\n",
      "b= 4\n",
      "Power = 256\n"
     ]
    }
   ],
   "source": [
    "a=4\n",
    "b=4\n",
    "power=a**b\n",
    "print(\"a= \"+str(a))\n",
    "print(\"b= \"+str(b))\n",
    "print(\"Power = \"+str(power))"
   ]
  },
  {
   "cell_type": "code",
   "execution_count": null,
   "id": "5e6d32ff-303f-400e-956c-5b4272308fee",
   "metadata": {},
   "outputs": [],
   "source": []
  }
 ],
 "metadata": {
  "kernelspec": {
   "display_name": "Python 3 (ipykernel)",
   "language": "python",
   "name": "python3"
  },
  "language_info": {
   "codemirror_mode": {
    "name": "ipython",
    "version": 3
   },
   "file_extension": ".py",
   "mimetype": "text/x-python",
   "name": "python",
   "nbconvert_exporter": "python",
   "pygments_lexer": "ipython3",
   "version": "3.11.7"
  }
 },
 "nbformat": 4,
 "nbformat_minor": 5
}
