{
 "cells": [
  {
   "cell_type": "code",
   "execution_count": 3,
   "id": "2d620e32-ae26-4f77-a407-59afddc9a3de",
   "metadata": {},
   "outputs": [
    {
     "name": "stdout",
     "output_type": "stream",
     "text": [
      "0\n",
      "1\n",
      "2\n",
      "3\n",
      "4\n",
      "5\n",
      "6\n",
      "7\n",
      "8\n",
      "9\n",
      "10\n",
      "11\n",
      "12\n",
      "13\n",
      "14\n",
      "15\n",
      "16\n",
      "17\n",
      "18\n",
      "19\n"
     ]
    }
   ],
   "source": [
    "for temp in range(0,20):\n",
    "    print(temp)"
   ]
  },
  {
   "cell_type": "code",
   "execution_count": 2,
   "id": "fe8590cf-cf20-4c25-82f9-60f100b55202",
   "metadata": {},
   "outputs": [
    {
     "name": "stdout",
     "output_type": "stream",
     "text": [
      "10 11 12 13 14 15 16 17 18 19 "
     ]
    }
   ],
   "source": [
    "for temp in range(10,20):\n",
    "    print(temp, end=\" \")"
   ]
  },
  {
   "cell_type": "code",
   "execution_count": 8,
   "id": "323a5dbc-5502-40dd-96e3-d69e04d868a6",
   "metadata": {},
   "outputs": [
    {
     "name": "stdout",
     "output_type": "stream",
     "text": [
      "[10, 20, 14, 55, 43, 87, 76]\n",
      "Number of item in the List2: \n",
      "7\n"
     ]
    }
   ],
   "source": [
    "list2=[10, 20, 14, 55, 43, 87, 76]\n",
    "print(list2)\n",
    "print(\"Number of item in the List2: \")\n",
    "print(len(list2))"
   ]
  },
  {
   "cell_type": "code",
   "execution_count": 14,
   "id": "4dd4c5f8-5f01-4420-8a23-9b64a0db9303",
   "metadata": {},
   "outputs": [
    {
     "name": "stdout",
     "output_type": "stream",
     "text": [
      "Artificial Intelligence\n",
      "A\n",
      "r\n",
      "t\n",
      "i\n",
      "f\n",
      "i\n",
      "c\n",
      "i\n",
      "a\n",
      "l\n",
      " \n",
      "I\n",
      "n\n",
      "t\n",
      "e\n",
      "l\n",
      "l\n",
      "i\n",
      "g\n",
      "e\n",
      "n\n",
      "c\n",
      "e\n"
     ]
    }
   ],
   "source": [
    "string=\"Artificial Intelligence\"\n",
    "print(string)\n",
    "for c in string:\n",
    "    print(c)\n"
   ]
  },
  {
   "cell_type": "code",
   "execution_count": 11,
   "id": "4dc23b4d-edbe-4a5e-93f4-77dc5c270119",
   "metadata": {},
   "outputs": [
    {
     "name": "stdout",
     "output_type": "stream",
     "text": [
      "M K Pandiyan\n",
      "34\n",
      "Software engineer\n"
     ]
    }
   ],
   "source": [
    "print(\"M K Pandiyan\")\n",
    "print(\"34\")\n",
    "print(\"Software engineer\")"
   ]
  },
  {
   "cell_type": "code",
   "execution_count": 12,
   "id": "f92963e0-ac45-4a78-9a9b-49a9045a8be5",
   "metadata": {},
   "outputs": [
    {
     "name": "stdout",
     "output_type": "stream",
     "text": [
      "(1, 'Welcome', 2, 'Hope')\n"
     ]
    }
   ],
   "source": [
    "Tuble=(1, 'Welcome', 2, 'Hope')\n",
    "print(Tuble)"
   ]
  },
  {
   "cell_type": "code",
   "execution_count": 13,
   "id": "51684b77-bfc9-41bf-b0e9-3861ba7778a0",
   "metadata": {},
   "outputs": [
    {
     "name": "stdout",
     "output_type": "stream",
     "text": [
      "(0, 1, 2, 3)\n",
      "('python', 'HOPE')\n",
      "((0, 1, 2, 3), ('python', 'HOPE'))\n"
     ]
    }
   ],
   "source": [
    "Tuble1=(0, 1, 2, 3)\n",
    "Tuble2= ('python', 'HOPE')\n",
    "Tuble3=(Tuble1,Tuble2)\n",
    "print(Tuble1)\n",
    "print(Tuble2)\n",
    "print(Tuble3)"
   ]
  },
  {
   "cell_type": "code",
   "execution_count": 3,
   "id": "a07f3b2f-3574-4d6f-8113-8b0a58688521",
   "metadata": {},
   "outputs": [
    {
     "name": "stdout",
     "output_type": "stream",
     "text": [
      "(20, 10, 16, 19, 25, 1, 276, 188)\n",
      "19  is odd\n",
      "25  is odd\n",
      "1  is odd\n"
     ]
    }
   ],
   "source": [
    "numbers=(20,10,16,19,25,1,276,188)\n",
    "print(numbers)\n",
    "for n in numbers:\n",
    "    if(n%2!=0):\n",
    "        print(str(n)+\"  is odd\")"
   ]
  },
  {
   "cell_type": "code",
   "execution_count": 4,
   "id": "2d7c9e90-45c8-458e-b148-40821cd50792",
   "metadata": {},
   "outputs": [
    {
     "name": "stdout",
     "output_type": "stream",
     "text": [
      "(20, 10, 16, 19, 25, 1, 276, 188)\n",
      "20  is even\n",
      "10  is even\n",
      "16  is even\n",
      "276  is even\n",
      "188  is even\n"
     ]
    }
   ],
   "source": [
    "numbers=(20,10,16,19,25,1,276,188)\n",
    "print(numbers)\n",
    "for n in numbers:\n",
    "    if(n%2==0):\n",
    "        print(str(n)+\"  is even\")"
   ]
  },
  {
   "cell_type": "code",
   "execution_count": null,
   "id": "074aa6ed-a8f7-48bf-8831-f1d526ce8f65",
   "metadata": {},
   "outputs": [],
   "source": []
  }
 ],
 "metadata": {
  "kernelspec": {
   "display_name": "Python 3 (ipykernel)",
   "language": "python",
   "name": "python3"
  },
  "language_info": {
   "codemirror_mode": {
    "name": "ipython",
    "version": 3
   },
   "file_extension": ".py",
   "mimetype": "text/x-python",
   "name": "python",
   "nbconvert_exporter": "python",
   "pygments_lexer": "ipython3",
   "version": "3.11.7"
  }
 },
 "nbformat": 4,
 "nbformat_minor": 5
}
