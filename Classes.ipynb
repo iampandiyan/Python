{
 "cells": [
  {
   "cell_type": "code",
   "execution_count": 1,
   "id": "c476954a-f102-4c3c-9d54-7d476ebb7e10",
   "metadata": {},
   "outputs": [],
   "source": [
    "class SubfieldsInAI:\n",
    "    def subFields():\n",
    "        aiList=(\"Machine Learning\", \"Neural Networks\", \"Vision\", \"Robotics\", \"Speech Processing\", \"Natural Language Processing\")\n",
    "        print(\"Sub-fields in AI are:\")\n",
    "        for field in aiList:\n",
    "            print(field)"
   ]
  },
  {
   "cell_type": "code",
   "execution_count": 2,
   "id": "1da15dcf-dd8f-4f94-bc1d-d379615274a3",
   "metadata": {},
   "outputs": [
    {
     "name": "stdout",
     "output_type": "stream",
     "text": [
      "Sub-fields in AI are:\n",
      "Machine Learning\n",
      "Neural Networks\n",
      "Vision\n",
      "Robotics\n",
      "Speech Processing\n",
      "Natural Language Processing\n"
     ]
    }
   ],
   "source": [
    "SubfieldsInAI.subFields()"
   ]
  },
  {
   "cell_type": "code",
   "execution_count": 3,
   "id": "b14828bf-ea78-4caa-b90c-76c442795b42",
   "metadata": {},
   "outputs": [],
   "source": [
    "class OddEven:\n",
    "    def oddEven():\n",
    "        num=int(input(\"Enter a number:\"))\n",
    "        if(num%2==0):\n",
    "            print(str(num)+ \" is Even number\")\n",
    "        else:\n",
    "            print(str(num)+ \" is Odd number\")"
   ]
  },
  {
   "cell_type": "code",
   "execution_count": 4,
   "id": "7940abcb-168f-4236-9f05-7f2e2fe427f2",
   "metadata": {},
   "outputs": [
    {
     "name": "stdin",
     "output_type": "stream",
     "text": [
      "Enter a number: 52452\n"
     ]
    },
    {
     "name": "stdout",
     "output_type": "stream",
     "text": [
      "52452 is Even number\n"
     ]
    }
   ],
   "source": [
    "OddEven.oddEven()"
   ]
  },
  {
   "cell_type": "code",
   "execution_count": 5,
   "id": "25fca17b-9f6d-4250-a649-1ff7f11ad5a8",
   "metadata": {},
   "outputs": [],
   "source": [
    "class ElegiblityForMarriage:\n",
    "    def eligible():\n",
    "        gender=input(\"Enter your gender:\")\n",
    "        age=int(input(\"Enter your age:\"))\n",
    "        print(\"Your Gender:\"+gender)\n",
    "        print(\"Your Age:\"+str(age))\n",
    "        if((gender == \"Male\" and age >= 21) or (gender == \"Female\" and age >= 18)):\n",
    "            print(\"ELIGIBLE\")\n",
    "        else:\n",
    "            print(\"NOT ELIGIBLE\")"
   ]
  },
  {
   "cell_type": "code",
   "execution_count": 6,
   "id": "2e52ff7c-dc94-4ee8-84d1-193fe120a777",
   "metadata": {},
   "outputs": [
    {
     "name": "stdin",
     "output_type": "stream",
     "text": [
      "Enter your gender: Male\n",
      "Enter your age: 20\n"
     ]
    },
    {
     "name": "stdout",
     "output_type": "stream",
     "text": [
      "Your Gender:Male\n",
      "Your Age:20\n",
      "NOT ELIGIBLE\n"
     ]
    }
   ],
   "source": [
    "ElegiblityForMarriage.eligible()"
   ]
  },
  {
   "cell_type": "code",
   "execution_count": 7,
   "id": "9685303a-8509-43ff-85c8-5fa5d538be23",
   "metadata": {},
   "outputs": [],
   "source": [
    "class FindPercent:\n",
    "    def percentage():\n",
    "        marks=((\"Subject1\",98),(\"Subject2\",87),(\"Subject3\",95),(\"Subject4\",95),(\"Subject5\",93))\n",
    "        total=0\n",
    "        for subject,mark in marks:\n",
    "          print(f\"{subject}={mark}\")\n",
    "          total=total+mark\n",
    "    \n",
    "        print(\"Total:\"+str(total))\n",
    "        percentage=total/500*100\n",
    "        print(\"Percentage:\"+str(percentage))"
   ]
  },
  {
   "cell_type": "code",
   "execution_count": 8,
   "id": "d0b56577-b1b2-443e-9f8b-2ae09dddd75d",
   "metadata": {},
   "outputs": [
    {
     "name": "stdout",
     "output_type": "stream",
     "text": [
      "Subject1=98\n",
      "Subject2=87\n",
      "Subject3=95\n",
      "Subject4=95\n",
      "Subject5=93\n",
      "Total:468\n",
      "Percentage:93.60000000000001\n"
     ]
    }
   ],
   "source": [
    "FindPercent.percentage()"
   ]
  },
  {
   "cell_type": "code",
   "execution_count": 11,
   "id": "4d9de2af-a9c9-4c85-a3a1-d9caf51d16ee",
   "metadata": {},
   "outputs": [],
   "source": [
    "class triangle:\n",
    "    def triangle(height,breadth,height1,height2,breadth1):\n",
    "        print(\"Height:\"+str(height))\n",
    "        print(\"breadth:\"+str(breadth))\n",
    "        print(\"Area formula: (Height*Breadth)/2\")\n",
    "        area=(height*breadth)/2\n",
    "        print(\"Area of Triangle:\"+str(area))\n",
    "        print(\"Height1:\"+str(height1))\n",
    "        print(\"Height2:\"+str(height2))\n",
    "        print(\"Breadth:\"+str(breadth1))\n",
    "        print(\"Perimeter formula: Height1+Height2+Breadth\")\n",
    "        perimeter=height1+height2+breadth1\n",
    "        print(\"Perimeter of Triangle:\"+str(perimeter)) "
   ]
  },
  {
   "cell_type": "code",
   "execution_count": 12,
   "id": "f5335bac-b2b9-46ed-b2ff-080b2f0e04a6",
   "metadata": {},
   "outputs": [
    {
     "name": "stdout",
     "output_type": "stream",
     "text": [
      "Height:32\n",
      "breadth:34\n",
      "Area formula: (Height*Breadth)/2\n",
      "Area of Triangle:544.0\n",
      "Height1:2\n",
      "Height2:4\n",
      "Breadth:4\n",
      "Perimeter formula: Height1+Height2+Breadth\n",
      "Perimeter of Triangle:10\n"
     ]
    }
   ],
   "source": [
    "triangle.triangle(32,34,2,4,4)"
   ]
  },
  {
   "cell_type": "code",
   "execution_count": 13,
   "id": "07c5f433-b1b9-44aa-a9db-d05932440842",
   "metadata": {},
   "outputs": [],
   "source": [
    "from MultiFunction import MultiFunctions"
   ]
  },
  {
   "cell_type": "code",
   "execution_count": 14,
   "id": "e0b22c40-6555-42d5-b1cd-bca0a0f88666",
   "metadata": {},
   "outputs": [
    {
     "name": "stdout",
     "output_type": "stream",
     "text": [
      "Sub-fields in AI are:\n",
      "Machine Learning\n",
      "Neural Networks\n",
      "Vision\n",
      "Robotics\n",
      "Speech Processing\n",
      "Natural Language Processing\n"
     ]
    }
   ],
   "source": [
    "MultiFunctions.subFields()"
   ]
  },
  {
   "cell_type": "code",
   "execution_count": 15,
   "id": "24dd077e-620d-465d-9915-b17949be4bfb",
   "metadata": {},
   "outputs": [
    {
     "name": "stdin",
     "output_type": "stream",
     "text": [
      "Enter a number: 52452\n"
     ]
    },
    {
     "name": "stdout",
     "output_type": "stream",
     "text": [
      "52452 is Even number\n"
     ]
    }
   ],
   "source": [
    "MultiFunctions.oddEven()"
   ]
  },
  {
   "cell_type": "code",
   "execution_count": 16,
   "id": "c798912c-6899-4984-a043-eca9b64bd217",
   "metadata": {},
   "outputs": [
    {
     "name": "stdin",
     "output_type": "stream",
     "text": [
      "Enter your gender: Male\n",
      "Enter your age: 20\n"
     ]
    },
    {
     "name": "stdout",
     "output_type": "stream",
     "text": [
      "Your Gender:Male\n",
      "Your Age:20\n",
      "NOT ELIGIBLE\n"
     ]
    }
   ],
   "source": [
    "MultiFunctions.eligible()"
   ]
  },
  {
   "cell_type": "code",
   "execution_count": 17,
   "id": "a1dc5f17-fbad-459c-92b4-1fe6a498462b",
   "metadata": {},
   "outputs": [
    {
     "name": "stdout",
     "output_type": "stream",
     "text": [
      "Subject1=98\n",
      "Subject2=87\n",
      "Subject3=95\n",
      "Subject4=95\n",
      "Subject5=93\n",
      "Total:468\n",
      "Percentage:93.60000000000001\n"
     ]
    }
   ],
   "source": [
    "MultiFunctions.percentage()"
   ]
  },
  {
   "cell_type": "code",
   "execution_count": 18,
   "id": "3f7f5e67-a887-437e-9a56-a0252b5cf143",
   "metadata": {},
   "outputs": [
    {
     "name": "stdout",
     "output_type": "stream",
     "text": [
      "Height:32\n",
      "breadth:34\n",
      "Area formula: (Height*Breadth)/2\n",
      "Area of Triangle:544.0\n",
      "Height1:2\n",
      "Height2:4\n",
      "Breadth:4\n",
      "Perimeter formula: Height1+Height2+Breadth\n",
      "Perimeter of Triangle:10\n"
     ]
    }
   ],
   "source": [
    "MultiFunctions.triangle(32,34,2,4,4)"
   ]
  },
  {
   "cell_type": "code",
   "execution_count": null,
   "id": "f674d843-aec1-4143-94fa-46c928364cb2",
   "metadata": {},
   "outputs": [],
   "source": []
  }
 ],
 "metadata": {
  "kernelspec": {
   "display_name": "Python 3 (ipykernel)",
   "language": "python",
   "name": "python3"
  },
  "language_info": {
   "codemirror_mode": {
    "name": "ipython",
    "version": 3
   },
   "file_extension": ".py",
   "mimetype": "text/x-python",
   "name": "python",
   "nbconvert_exporter": "python",
   "pygments_lexer": "ipython3",
   "version": "3.11.7"
  }
 },
 "nbformat": 4,
 "nbformat_minor": 5
}
