{
 "cells": [
  {
   "cell_type": "code",
   "execution_count": 2,
   "id": "dc83883d-985c-4e76-9058-80298ceb8629",
   "metadata": {},
   "outputs": [
    {
     "name": "stdin",
     "output_type": "stream",
     "text": [
      "Enter the Value 1\n"
     ]
    }
   ],
   "source": [
    "value=input(\"Enter the Value\")\n",
    "if(int(value)==10):\n",
    "    print(\"Correct\")"
   ]
  },
  {
   "cell_type": "code",
   "execution_count": 17,
   "id": "472f2829-8780-43c0-adc4-f85671733de7",
   "metadata": {},
   "outputs": [
    {
     "name": "stdin",
     "output_type": "stream",
     "text": [
      "Enter the Password as\n"
     ]
    },
    {
     "name": "stdout",
     "output_type": "stream",
     "text": [
      "Password is incorrect\n"
     ]
    }
   ],
   "source": [
    "password=input(\"Enter the Password\")\n",
    "if(password==\"HOPE@123\"):\n",
    "    print(\"Your password is correct\")\n",
    "else:\n",
    "    print(\"Password is incorrect\")"
   ]
  },
  {
   "cell_type": "code",
   "execution_count": 10,
   "id": "946f5fb9-f53a-4fef-a477-acc5d4d69cdd",
   "metadata": {},
   "outputs": [
    {
     "name": "stdin",
     "output_type": "stream",
     "text": [
      "Enter the Age 40\n"
     ]
    },
    {
     "name": "stdout",
     "output_type": "stream",
     "text": [
      "Old\n"
     ]
    }
   ],
   "source": [
    "age=input(\"Enter the Age\")\n",
    "intAge=int(age)\n",
    "if(intAge<=12):\n",
    "    print(\"Children\")\n",
    "elif(intAge>12 and intAge<40):\n",
    "    print(\"Adult\")\n",
    "else:\n",
    "    print(\"Old\")\n",
    "    "
   ]
  },
  {
   "cell_type": "code",
   "execution_count": 13,
   "id": "f974157f-1477-4806-980d-940ecefbdc0f",
   "metadata": {},
   "outputs": [
    {
     "name": "stdin",
     "output_type": "stream",
     "text": [
      "Enter the Number 0\n"
     ]
    },
    {
     "name": "stdout",
     "output_type": "stream",
     "text": [
      "Zero\n"
     ]
    }
   ],
   "source": [
    "num=input(\"Enter the Number\")\n",
    "if(int(num)<0):\n",
    "    print(\"Negative\")\n",
    "elif(int(num)>0):\n",
    "    print(\"Postive\")\n",
    "else:\n",
    "    print(\"Zero\")"
   ]
  },
  {
   "cell_type": "code",
   "execution_count": 16,
   "id": "25e4f825-b0da-4719-b013-c440bd3acfaf",
   "metadata": {},
   "outputs": [
    {
     "name": "stdin",
     "output_type": "stream",
     "text": [
      "Enter a number to check: 22\n"
     ]
    },
    {
     "name": "stdout",
     "output_type": "stream",
     "text": [
      "No is not divisible by 5\n"
     ]
    }
   ],
   "source": [
    "num=input(\"Enter a number to check:\")\n",
    "if(int(num)%5==0):\n",
    "   print(\"No is divisible by 5\")\n",
    "else:\n",
    "    print(\"No is not divisible by 5\")"
   ]
  },
  {
   "cell_type": "code",
   "execution_count": null,
   "id": "a852bfa0-b28e-42f6-ab90-df1002d441c3",
   "metadata": {},
   "outputs": [],
   "source": []
  }
 ],
 "metadata": {
  "kernelspec": {
   "display_name": "Python 3 (ipykernel)",
   "language": "python",
   "name": "python3"
  },
  "language_info": {
   "codemirror_mode": {
    "name": "ipython",
    "version": 3
   },
   "file_extension": ".py",
   "mimetype": "text/x-python",
   "name": "python",
   "nbconvert_exporter": "python",
   "pygments_lexer": "ipython3",
   "version": "3.11.7"
  }
 },
 "nbformat": 4,
 "nbformat_minor": 5
}
